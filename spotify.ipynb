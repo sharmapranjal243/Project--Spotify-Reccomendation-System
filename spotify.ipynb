{
 "cells": [
  {
   "cell_type": "code",
   "execution_count": 1,
   "id": "246b32ea",
   "metadata": {},
   "outputs": [],
   "source": [
    "import streamlit as st\n",
    "import pandas as pd\n",
    "import numpy as np\n",
    "import pickle\n",
    "from sklearn.cluster import KMeans"
   ]
  },
  {
   "cell_type": "code",
   "execution_count": 2,
   "id": "49401651",
   "metadata": {},
   "outputs": [],
   "source": [
    "data_dict=pickle.load(open('data.pkl','rb'))\n",
    "data=pd.DataFrame(data_dict)"
   ]
  },
  {
   "cell_type": "code",
   "execution_count": 3,
   "id": "f385b449",
   "metadata": {},
   "outputs": [],
   "source": [
    "num_types = ['int16', 'int32', 'int64', 'float16', 'float32', 'float64']\n",
    "num = data.select_dtypes(include=num_types)"
   ]
  },
  {
   "cell_type": "code",
   "execution_count": 6,
   "id": "ddc228b6",
   "metadata": {},
   "outputs": [],
   "source": [
    "kmeans = KMeans(n_clusters=6)\n",
    "features = kmeans.fit_predict(num)\n",
    "data['feature']=features"
   ]
  },
  {
   "cell_type": "code",
   "execution_count": 7,
   "id": "f87698cf",
   "metadata": {},
   "outputs": [],
   "source": [
    "class SpotifyRecommender():\n",
    "    def __init__(self, rec_data):\n",
    "        #our class should understand which data to work with\n",
    "        self.rec_data_ = rec_data\n",
    "    \n",
    "    #function which returns recommendations, we can also choose the amount of songs to be recommended\n",
    "    def get_recommendations(self, song_name, amount=20):\n",
    "        distances = []\n",
    "        #choosing the data for our song\n",
    "        song = self.rec_data_[(self.rec_data_.track_name.str.lower() == song_name.lower())].head(1).values[0]\n",
    "        #dropping the data with our song\n",
    "        res_data = self.rec_data_[self.rec_data_.track_name.str.lower() != song_name.lower()]\n",
    "        for r_song in (res_data.values):\n",
    "            dist = 0\n",
    "            for col in np.arange(len(res_data.columns)):\n",
    "                #indeces of non-numerical columns\n",
    "                if not col in [0,1]:\n",
    "                    #calculating the manhettan distances for each numerical feature\n",
    "                    dist = dist + np.absolute(float(song[col]) - float(r_song[col]))\n",
    "            distances.append(dist)\n",
    "        res_data['distance'] = distances\n",
    "        #sorting our data to be ascending by 'distance' feature\n",
    "        res_data = res_data.sort_values('distance')\n",
    "        columns = ['track_name']\n",
    "        return res_data[columns][:amount]"
   ]
  },
  {
   "cell_type": "code",
   "execution_count": 9,
   "id": "b39a9aa5",
   "metadata": {},
   "outputs": [],
   "source": [
    "Recommender=SpotifyRecommender(data)"
   ]
  },
  {
   "cell_type": "code",
   "execution_count": 8,
   "id": "cee38ec4",
   "metadata": {},
   "outputs": [],
   "source": [
    "class SpotifyRecommender_Artist():\n",
    "    def __init__(self_1, rec_data_1):\n",
    "        #our class should understand which data to work with\n",
    "        self_1.rec_data__1 = rec_data_1\n",
    "    \n",
    "    \n",
    "    #function which returns recommendations, we can also choose the amount of songs to be recommended\n",
    "    def get_recommendations_artist(self_1, artist_name_1, amount=20):\n",
    "        distances = []\n",
    "        #choosing the data for our song\n",
    "        artist = self_1.rec_data__1[(self_1.rec_data__1.artists.str.lower() == artist_name_1.lower())].head(1).values[0]\n",
    "        #dropping the data with our song\n",
    "        res_data_1 = self_1.rec_data__1[self_1.rec_data__1.artists.str.lower() != artist_name_1.lower()]\n",
    "        for r_artist in (res_data_1.values):\n",
    "            dist = 0\n",
    "            for col in np.arange(len(res_data_1.columns)):\n",
    "                #indeces of non-numerical columns\n",
    "                if not col in [0,1]:\n",
    "                    #calculating the manhettan distances for each numerical feature\n",
    "                    dist = dist + np.absolute(float(artist[col]) - float(r_artist[col]))\n",
    "            distances.append(dist)\n",
    "        res_data_1['distance'] = distances\n",
    "        #sorting our data to be ascending by 'distance' feature\n",
    "        res_data_1 = res_data_1.sort_values('distance')\n",
    "        columns = ['track_name']\n",
    "        return res_data_1[columns][:amount]"
   ]
  },
  {
   "cell_type": "code",
   "execution_count": 11,
   "id": "a4869188",
   "metadata": {},
   "outputs": [],
   "source": [
    "Recommeder_artists=SpotifyRecommender_Artist(data)"
   ]
  },
  {
   "cell_type": "code",
   "execution_count": 12,
   "id": "3f5dbd1d",
   "metadata": {},
   "outputs": [],
   "source": [
    "name_dict=pickle.load(open('names.pkl','rb'))\n",
    "names=pd.DataFrame(name_dict)\n",
    "song_dict=pickle.load(open('song_names.pkl','rb'))\n",
    "song=pd.DataFrame(song_dict)\n",
    "artists_dict=pickle.load(open('artist_name.pkl','rb'))\n",
    "artist=pd.DataFrame(artists_dict)"
   ]
  },
  {
   "cell_type": "code",
   "execution_count": 13,
   "id": "75d82033",
   "metadata": {},
   "outputs": [
    {
     "name": "stderr",
     "output_type": "stream",
     "text": [
      "2023-01-17 19:20:05.309 \n",
      "  \u001b[33m\u001b[1mWarning:\u001b[0m to view this Streamlit app on a browser, run it with the following\n",
      "  command:\n",
      "\n",
      "    streamlit run C:\\Users\\nehas\\anaconda3\\lib\\site-packages\\ipykernel_launcher.py [ARGUMENTS]\n"
     ]
    }
   ],
   "source": [
    "st.write('Spotify Recommendation System')"
   ]
  },
  {
   "cell_type": "code",
   "execution_count": 15,
   "id": "ad50c54c",
   "metadata": {},
   "outputs": [],
   "source": [
    "selected_name=st.selectbox('Enter song or Artist name',\n",
    "                          names['name'].values)"
   ]
  },
  {
   "cell_type": "code",
   "execution_count": 18,
   "id": "a4e5a8e9",
   "metadata": {},
   "outputs": [],
   "source": [
    "if st.button('Recommender'):\n",
    "    if selected_names in song.values:\n",
    "        recommended_song=Recommender.get_recommendations(selected_name)\n",
    "        hide_table_row_index=\"\"\"\n",
    "                    <style>\n",
    "                    thead tr th:first-child {display:none}\n",
    "                    tbody th {display:none}\n",
    "                    </style>\n",
    "                    \"\"\"\n",
    "        st.markdown(hide_table_row_index,unsafe_allow_html=True)\n",
    "        st.table(recommended_song)\n",
    "    else:\n",
    "            recommneded_artist=Recommeder_artists.get_recommendations_artist(selected_name)\n",
    "            hide_table_row_index=\"\"\"\n",
    "                            <style>\n",
    "                            thead tr th:first-child {display:none}\n",
    "                            tbody th {display:none}\n",
    "                            </style>\n",
    "                            \"\"\"\n",
    "            st.markdown(hide_table_row_index,unsafe_allow_html=True)\n",
    "            st.table(recommneded_artist)"
   ]
  },
  {
   "cell_type": "code",
   "execution_count": null,
   "id": "f53febcb",
   "metadata": {},
   "outputs": [],
   "source": []
  }
 ],
 "metadata": {
  "kernelspec": {
   "display_name": "Python 3 (ipykernel)",
   "language": "python",
   "name": "python3"
  },
  "language_info": {
   "codemirror_mode": {
    "name": "ipython",
    "version": 3
   },
   "file_extension": ".py",
   "mimetype": "text/x-python",
   "name": "python",
   "nbconvert_exporter": "python",
   "pygments_lexer": "ipython3",
   "version": "3.9.13"
  }
 },
 "nbformat": 4,
 "nbformat_minor": 5
}
